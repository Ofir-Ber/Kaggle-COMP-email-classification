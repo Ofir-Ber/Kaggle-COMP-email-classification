{
 "cells": [
  {
   "cell_type": "code",
   "execution_count": 1,
   "id": "72a51a38",
   "metadata": {},
   "outputs": [],
   "source": [
    "import pandas as pd\n",
    "import numpy as np\n",
    "import matplotlib.pyplot as plt\n",
    "import seaborn as sns"
   ]
  },
  {
   "cell_type": "code",
   "execution_count": 2,
   "id": "bdbf09f8",
   "metadata": {},
   "outputs": [],
   "source": [
    "#import datasets\n",
    "train_df = pd.read_csv('train.csv', index_col=0)\n",
    "test_df = pd.read_csv('test.csv', index_col=0)\n",
    "#train_df.dropna(axis=0, inplace=True)\n",
    "#train_df.set_index(np.arange(len(train_df)), inplace=True)"
   ]
  },
  {
   "cell_type": "code",
   "execution_count": 3,
   "id": "1b110de8",
   "metadata": {},
   "outputs": [
    {
     "data": {
      "text/html": [
       "<div>\n",
       "<style scoped>\n",
       "    .dataframe tbody tr th:only-of-type {\n",
       "        vertical-align: middle;\n",
       "    }\n",
       "\n",
       "    .dataframe tbody tr th {\n",
       "        vertical-align: top;\n",
       "    }\n",
       "\n",
       "    .dataframe thead th {\n",
       "        text-align: right;\n",
       "    }\n",
       "</style>\n",
       "<table border=\"1\" class=\"dataframe\">\n",
       "  <thead>\n",
       "    <tr style=\"text-align: right;\">\n",
       "      <th></th>\n",
       "      <th>date</th>\n",
       "      <th>org</th>\n",
       "      <th>tld</th>\n",
       "      <th>ccs</th>\n",
       "      <th>bcced</th>\n",
       "      <th>mail_type</th>\n",
       "      <th>images</th>\n",
       "      <th>urls</th>\n",
       "      <th>salutations</th>\n",
       "      <th>designation</th>\n",
       "      <th>chars_in_subject</th>\n",
       "      <th>chars_in_body</th>\n",
       "      <th>label</th>\n",
       "    </tr>\n",
       "  </thead>\n",
       "  <tbody>\n",
       "    <tr>\n",
       "      <th>0</th>\n",
       "      <td>Mon, 6 Nov 2017 11:13:45 +0100</td>\n",
       "      <td>reply</td>\n",
       "      <td>ebay.in</td>\n",
       "      <td>0</td>\n",
       "      <td>0</td>\n",
       "      <td>multipart/alternative</td>\n",
       "      <td>35</td>\n",
       "      <td>120</td>\n",
       "      <td>0</td>\n",
       "      <td>0</td>\n",
       "      <td>49.0</td>\n",
       "      <td>80027</td>\n",
       "      <td>2</td>\n",
       "    </tr>\n",
       "    <tr>\n",
       "      <th>1</th>\n",
       "      <td>Wed, 14 Feb 2018 11:00:16 -0000</td>\n",
       "      <td>edm</td>\n",
       "      <td>efinmail.com</td>\n",
       "      <td>0</td>\n",
       "      <td>0</td>\n",
       "      <td>multipart/alternative</td>\n",
       "      <td>1</td>\n",
       "      <td>7</td>\n",
       "      <td>0</td>\n",
       "      <td>0</td>\n",
       "      <td>107.0</td>\n",
       "      <td>2961</td>\n",
       "      <td>1</td>\n",
       "    </tr>\n",
       "    <tr>\n",
       "      <th>2</th>\n",
       "      <td>Wed, 6 Jul 2016 19:53:37 +0000</td>\n",
       "      <td>usebackpack</td>\n",
       "      <td>com</td>\n",
       "      <td>0</td>\n",
       "      <td>0</td>\n",
       "      <td>text/html</td>\n",
       "      <td>4</td>\n",
       "      <td>17</td>\n",
       "      <td>0</td>\n",
       "      <td>0</td>\n",
       "      <td>35.0</td>\n",
       "      <td>25149</td>\n",
       "      <td>1</td>\n",
       "    </tr>\n",
       "    <tr>\n",
       "      <th>3</th>\n",
       "      <td>Fri, 11 Oct 2019 11:25:40 +0200</td>\n",
       "      <td>granular</td>\n",
       "      <td>ai</td>\n",
       "      <td>0</td>\n",
       "      <td>0</td>\n",
       "      <td>multipart/mixed</td>\n",
       "      <td>0</td>\n",
       "      <td>0</td>\n",
       "      <td>0</td>\n",
       "      <td>0</td>\n",
       "      <td>15.0</td>\n",
       "      <td>635296</td>\n",
       "      <td>1</td>\n",
       "    </tr>\n",
       "    <tr>\n",
       "      <th>4</th>\n",
       "      <td>Tue, 07 Nov 2017 11:07:18 +0000 (UTC)</td>\n",
       "      <td>github</td>\n",
       "      <td>com</td>\n",
       "      <td>1</td>\n",
       "      <td>0</td>\n",
       "      <td>multipart/alternative</td>\n",
       "      <td>2</td>\n",
       "      <td>11</td>\n",
       "      <td>0</td>\n",
       "      <td>0</td>\n",
       "      <td>49.0</td>\n",
       "      <td>2355</td>\n",
       "      <td>1</td>\n",
       "    </tr>\n",
       "  </tbody>\n",
       "</table>\n",
       "</div>"
      ],
      "text/plain": [
       "                                    date          org           tld  ccs  \\\n",
       "0         Mon, 6 Nov 2017 11:13:45 +0100        reply       ebay.in    0   \n",
       "1        Wed, 14 Feb 2018 11:00:16 -0000          edm  efinmail.com    0   \n",
       "2         Wed, 6 Jul 2016 19:53:37 +0000  usebackpack           com    0   \n",
       "3        Fri, 11 Oct 2019 11:25:40 +0200     granular            ai    0   \n",
       "4  Tue, 07 Nov 2017 11:07:18 +0000 (UTC)       github           com    1   \n",
       "\n",
       "   bcced              mail_type  images  urls  salutations  designation  \\\n",
       "0      0  multipart/alternative      35   120            0            0   \n",
       "1      0  multipart/alternative       1     7            0            0   \n",
       "2      0              text/html       4    17            0            0   \n",
       "3      0        multipart/mixed       0     0            0            0   \n",
       "4      0  multipart/alternative       2    11            0            0   \n",
       "\n",
       "   chars_in_subject  chars_in_body  label  \n",
       "0              49.0          80027      2  \n",
       "1             107.0           2961      1  \n",
       "2              35.0          25149      1  \n",
       "3              15.0         635296      1  \n",
       "4              49.0           2355      1  "
      ]
     },
     "execution_count": 3,
     "metadata": {},
     "output_type": "execute_result"
    }
   ],
   "source": [
    "train_df.head(5)"
   ]
  },
  {
   "cell_type": "code",
   "execution_count": 4,
   "id": "afad5364",
   "metadata": {},
   "outputs": [
    {
     "data": {
      "text/html": [
       "<div>\n",
       "<style scoped>\n",
       "    .dataframe tbody tr th:only-of-type {\n",
       "        vertical-align: middle;\n",
       "    }\n",
       "\n",
       "    .dataframe tbody tr th {\n",
       "        vertical-align: top;\n",
       "    }\n",
       "\n",
       "    .dataframe thead th {\n",
       "        text-align: right;\n",
       "    }\n",
       "</style>\n",
       "<table border=\"1\" class=\"dataframe\">\n",
       "  <thead>\n",
       "    <tr style=\"text-align: right;\">\n",
       "      <th></th>\n",
       "      <th>date</th>\n",
       "      <th>org</th>\n",
       "      <th>tld</th>\n",
       "      <th>ccs</th>\n",
       "      <th>bcced</th>\n",
       "      <th>mail_type</th>\n",
       "      <th>images</th>\n",
       "      <th>urls</th>\n",
       "      <th>salutations</th>\n",
       "      <th>designation</th>\n",
       "      <th>chars_in_subject</th>\n",
       "      <th>chars_in_body</th>\n",
       "    </tr>\n",
       "  </thead>\n",
       "  <tbody>\n",
       "    <tr>\n",
       "      <th>0</th>\n",
       "      <td>Wed, 1 Nov 2017 15:51:21 +0530</td>\n",
       "      <td>iiitd</td>\n",
       "      <td>ac.in</td>\n",
       "      <td>0</td>\n",
       "      <td>0</td>\n",
       "      <td>multipart/alternative</td>\n",
       "      <td>0</td>\n",
       "      <td>12</td>\n",
       "      <td>1</td>\n",
       "      <td>0</td>\n",
       "      <td>20.0</td>\n",
       "      <td>4505</td>\n",
       "    </tr>\n",
       "    <tr>\n",
       "      <th>1</th>\n",
       "      <td>Thu, 05 Mar 2015 20:47:22 -0500</td>\n",
       "      <td>notifications</td>\n",
       "      <td>freelancer.com</td>\n",
       "      <td>0</td>\n",
       "      <td>0</td>\n",
       "      <td>multipart/alternative</td>\n",
       "      <td>7</td>\n",
       "      <td>49</td>\n",
       "      <td>1</td>\n",
       "      <td>0</td>\n",
       "      <td>49.0</td>\n",
       "      <td>32949</td>\n",
       "    </tr>\n",
       "    <tr>\n",
       "      <th>2</th>\n",
       "      <td>Thu, 21 Apr 2016 14:53:08 +0530</td>\n",
       "      <td>iiitd</td>\n",
       "      <td>ac.in</td>\n",
       "      <td>1</td>\n",
       "      <td>0</td>\n",
       "      <td>multipart/alternative</td>\n",
       "      <td>0</td>\n",
       "      <td>0</td>\n",
       "      <td>1</td>\n",
       "      <td>0</td>\n",
       "      <td>24.0</td>\n",
       "      <td>1707</td>\n",
       "    </tr>\n",
       "    <tr>\n",
       "      <th>3</th>\n",
       "      <td>Tue, 06 Feb 2018 12:12:08 +0000 (UTC)</td>\n",
       "      <td>udacity</td>\n",
       "      <td>com</td>\n",
       "      <td>0</td>\n",
       "      <td>0</td>\n",
       "      <td>multipart/alternative</td>\n",
       "      <td>13</td>\n",
       "      <td>50</td>\n",
       "      <td>1</td>\n",
       "      <td>0</td>\n",
       "      <td>70.0</td>\n",
       "      <td>76686</td>\n",
       "    </tr>\n",
       "    <tr>\n",
       "      <th>4</th>\n",
       "      <td>Tue, 21 May 2019 05:56:27 -0700</td>\n",
       "      <td>google</td>\n",
       "      <td>com</td>\n",
       "      <td>0</td>\n",
       "      <td>0</td>\n",
       "      <td>text/html</td>\n",
       "      <td>18</td>\n",
       "      <td>76</td>\n",
       "      <td>1</td>\n",
       "      <td>0</td>\n",
       "      <td>38.0</td>\n",
       "      <td>22646</td>\n",
       "    </tr>\n",
       "  </tbody>\n",
       "</table>\n",
       "</div>"
      ],
      "text/plain": [
       "                                    date            org             tld  ccs  \\\n",
       "0         Wed, 1 Nov 2017 15:51:21 +0530          iiitd           ac.in    0   \n",
       "1        Thu, 05 Mar 2015 20:47:22 -0500  notifications  freelancer.com    0   \n",
       "2        Thu, 21 Apr 2016 14:53:08 +0530          iiitd           ac.in    1   \n",
       "3  Tue, 06 Feb 2018 12:12:08 +0000 (UTC)        udacity             com    0   \n",
       "4        Tue, 21 May 2019 05:56:27 -0700         google             com    0   \n",
       "\n",
       "   bcced              mail_type  images  urls  salutations  designation  \\\n",
       "0      0  multipart/alternative       0    12            1            0   \n",
       "1      0  multipart/alternative       7    49            1            0   \n",
       "2      0  multipart/alternative       0     0            1            0   \n",
       "3      0  multipart/alternative      13    50            1            0   \n",
       "4      0              text/html      18    76            1            0   \n",
       "\n",
       "   chars_in_subject  chars_in_body  \n",
       "0              20.0           4505  \n",
       "1              49.0          32949  \n",
       "2              24.0           1707  \n",
       "3              70.0          76686  \n",
       "4              38.0          22646  "
      ]
     },
     "execution_count": 4,
     "metadata": {},
     "output_type": "execute_result"
    }
   ],
   "source": [
    "test_df.head(5)"
   ]
  },
  {
   "cell_type": "code",
   "execution_count": 5,
   "id": "7c6e84a6",
   "metadata": {},
   "outputs": [],
   "source": [
    "#create column of difference in hours in train set\n",
    "new = train_df[\"date\"].str.split(\" \", n = 6, expand = True)\n",
    "train_df[\"diff\"]= new[5]"
   ]
  },
  {
   "cell_type": "code",
   "execution_count": 6,
   "id": "086ab128",
   "metadata": {},
   "outputs": [],
   "source": [
    "#create column of difference in hours in test set\n",
    "new = test_df[\"date\"].str.split(\" \", n = 6, expand = True)\n",
    "test_df[\"diff\"]= new[5]"
   ]
  },
  {
   "cell_type": "code",
   "execution_count": 7,
   "id": "58452cfb",
   "metadata": {},
   "outputs": [
    {
     "name": "stdout",
     "output_type": "stream",
     "text": [
      "42319 ['26', 'Dec', '13', '18:48:01']\n",
      "68013 ['11-MAR-2018', '20:40:58']\n"
     ]
    }
   ],
   "source": [
    "#taking care of dates that don't start with weekday in train set\n",
    "for i in range(len(train_df)):\n",
    "    if (train_df['date'][i][0].isalpha() == False):\n",
    "        L = list((train_df[\"date\"][i].split(\" \",5)))\n",
    "        if len(L)==5:\n",
    "            train_df.loc[i, ('diff')] = L[4]\n",
    "        else:\n",
    "            print(i, L)\n",
    "            train_df.loc[i, ('diff')]  = \"+0000\""
   ]
  },
  {
   "cell_type": "code",
   "execution_count": 8,
   "id": "4cd02def",
   "metadata": {},
   "outputs": [
    {
     "name": "stdout",
     "output_type": "stream",
     "text": [
      "5898 ['11-MAR-2018', '20:40:58']\n"
     ]
    }
   ],
   "source": [
    "#taking care of dates that don't start with weekday in test set\n",
    "for i in range(len(test_df)):\n",
    "    if (test_df['date'][i][0].isalpha() == False):\n",
    "        L = list((test_df[\"date\"][i].split(\" \",5)))\n",
    "        if len(L)==5:\n",
    "            test_df.loc[i, ('diff')] = L[4]\n",
    "        else:\n",
    "            print(i, L)\n",
    "            test_df.loc[i, ('diff')]  = \"+0000\""
   ]
  },
  {
   "cell_type": "code",
   "execution_count": 9,
   "id": "60b4e0ed",
   "metadata": {},
   "outputs": [],
   "source": [
    "#taking care of dates with: \",  \" in train set\n",
    "for i in range(len(train_df)):\n",
    "    L = train_df.loc[i, ('date')].split(\",  \", 1)\n",
    "    if len(L) >= 2:\n",
    "        #print(i, L)\n",
    "        L = train_df.loc[i, ('date')].split(\" \", 7)\n",
    "        train_df.loc[i, ('diff')] = L[6]"
   ]
  },
  {
   "cell_type": "code",
   "execution_count": 10,
   "id": "1547f64b",
   "metadata": {},
   "outputs": [],
   "source": [
    "#taking care of dates with: \",  \" in test set\n",
    "for i in range(len(test_df)):\n",
    "    L = test_df.loc[i, ('date')].split(\",  \", 1)\n",
    "    if len(L) >= 2:\n",
    "        #print(i, L)\n",
    "        L = test_df.loc[i, ('date')].split(\" \", 7)\n",
    "        test_df.loc[i, ('diff')] = L[6]"
   ]
  },
  {
   "cell_type": "code",
   "execution_count": 39,
   "id": "de150cda",
   "metadata": {},
   "outputs": [],
   "source": [
    "# drop these rows from the train set\n",
    "#train_df = train_df.drop([40409])\n",
    "#train_df = train_df.drop([65003])\n",
    "#train_df.set_index(np.arange(len(train_df)), inplace=True)"
   ]
  },
  {
   "cell_type": "code",
   "execution_count": 11,
   "id": "060badd2",
   "metadata": {},
   "outputs": [],
   "source": [
    "#create a function that converts the 'date' column into a datetime type\n",
    "import datetime\n",
    "import re \n",
    "def convert_date(date_str, i):\n",
    "    date_str = re.sub(\"[\\(\\[].*?[\\)\\]]\", \"\", str(date_str)).rstrip()\n",
    "    #there is a problem with converting these lines that ended with '+0580' to datetime\n",
    "    if date_str[-5:] == '+0580':\n",
    "        date_str = date_str[:-5].rstrip()     \n",
    "    try:\n",
    "        x = datetime.datetime.strptime(date_str, '%a, %d %b %Y %H:%M:%S %z')\n",
    "        return x\n",
    "    except ValueError:\n",
    "        try:\n",
    "            x = datetime.datetime.strptime(date_str, '%d %b %Y %H:%M:%S %z')\n",
    "            return x\n",
    "        except ValueError:\n",
    "            try:\n",
    "                x = datetime.datetime.strptime(date_str, '%a, %d %b %Y %H:%M:%S')\n",
    "                return x\n",
    "            except ValueError:\n",
    "                try:\n",
    "                    x = datetime.datetime.strptime(date_str, '%a, %d %b %Y %H:%M:%S %Z')\n",
    "                    return x\n",
    "                except ValueError:\n",
    "                    try:\n",
    "                        x = datetime.datetime.strptime(date_str, '%d %b %Y %H:%M:%S')\n",
    "                        return x\n",
    "                    except ValueError:\n",
    "                        return i"
   ]
  },
  {
   "cell_type": "code",
   "execution_count": 12,
   "id": "d6f624f1",
   "metadata": {},
   "outputs": [
    {
     "name": "stdout",
     "output_type": "stream",
     "text": [
      "42319 26 Dec 13 18:48:01\n",
      "68013 11-MAR-2018 20:40:58\n"
     ]
    }
   ],
   "source": [
    "#convert 'date' column by creating a list with datetime for each row\n",
    "L_datetime = []\n",
    "for i in range(len(train_df)):\n",
    "    L_datetime.append(convert_date(train_df['date'][i], i))\n",
    "    if type(L_datetime[i]) != datetime.datetime:\n",
    "        print(i, train_df['date'][i])"
   ]
  },
  {
   "cell_type": "code",
   "execution_count": 13,
   "id": "76c51009",
   "metadata": {},
   "outputs": [
    {
     "name": "stdout",
     "output_type": "stream",
     "text": [
      "5898 11-MAR-2018 20:40:58\n"
     ]
    }
   ],
   "source": [
    "#convert 'date' column in test set\n",
    "L_datetime_test = []\n",
    "for i in range(len(test_df)):\n",
    "    L_datetime_test.append(convert_date(test_df['date'][i], i))\n",
    "    if type(L_datetime_test[i]) != datetime.datetime:\n",
    "        print(i, test_df['date'][i])"
   ]
  },
  {
   "cell_type": "code",
   "execution_count": 14,
   "id": "d0f95799",
   "metadata": {},
   "outputs": [],
   "source": [
    "#create a column of datetime in train set\n",
    "for i in range(len(train_df)):\n",
    "    train_df.loc[i, ('datetime_col')] = L_datetime[i]"
   ]
  },
  {
   "cell_type": "code",
   "execution_count": 15,
   "id": "22158890",
   "metadata": {},
   "outputs": [],
   "source": [
    "#create a column of datetime in test set\n",
    "for i in range(len(test_df)):\n",
    "    test_df.loc[i, ('datetime_col')] = L_datetime_test[i]"
   ]
  },
  {
   "cell_type": "code",
   "execution_count": 16,
   "id": "c1432d52",
   "metadata": {},
   "outputs": [],
   "source": [
    "#42319 26 Dec 13 18:48:01\n",
    "train_df.loc[42319 , ('datetime_col')] = datetime.datetime(2013, 12, 26, 18, 48, 1)"
   ]
  },
  {
   "cell_type": "code",
   "execution_count": 17,
   "id": "ec4fefb8",
   "metadata": {},
   "outputs": [],
   "source": [
    "#68013 11-MAR-2018 20:40:58\n",
    "train_df.loc[68013 , ('datetime_col')] = datetime.datetime(2018, 3, 11, 20, 40, 58)"
   ]
  },
  {
   "cell_type": "code",
   "execution_count": null,
   "id": "c727de00",
   "metadata": {},
   "outputs": [],
   "source": []
  },
  {
   "cell_type": "code",
   "execution_count": 18,
   "id": "0251d3bc",
   "metadata": {},
   "outputs": [],
   "source": [
    "# convert this row to a datetime: 5898 11-MAR-2018 20:40:58\n",
    "test_df.loc[5898, ('datetime_col')] = datetime.datetime(2018, 3, 11, 20, 40, 58)"
   ]
  },
  {
   "cell_type": "code",
   "execution_count": 19,
   "id": "57f65835",
   "metadata": {},
   "outputs": [],
   "source": [
    "# create columns of time variables in train set\n",
    "train_df['weekday'] = train_df['datetime_col'].apply(lambda x: x.weekday())\n",
    "train_df['day'] = train_df['datetime_col'].apply(lambda x: x.day)\n",
    "train_df['month'] = train_df['datetime_col'].apply(lambda x: x.month)\n",
    "train_df['year'] = train_df['datetime_col'].apply(lambda x: x.year)\n",
    "train_df['time'] = train_df['datetime_col'].apply(lambda x: x.strftime(\"%H:%M:%S\"))\n",
    "train_df['hour'] = train_df['datetime_col'].apply(lambda x: x.hour)\n",
    "train_df['timezone'] = train_df['datetime_col'].apply(lambda x: x.tzinfo)"
   ]
  },
  {
   "cell_type": "code",
   "execution_count": 20,
   "id": "6010691a",
   "metadata": {},
   "outputs": [],
   "source": [
    "# create columns of time variables in test set\n",
    "test_df['weekday'] = test_df['datetime_col'].apply(lambda x: x.weekday())\n",
    "test_df['day'] = test_df['datetime_col'].apply(lambda x: x.day)\n",
    "test_df['month'] = test_df['datetime_col'].apply(lambda x: x.month)\n",
    "test_df['year'] = test_df['datetime_col'].apply(lambda x: x.year)\n",
    "test_df['time'] = test_df['datetime_col'].apply(lambda x: x.strftime(\"%H:%M:%S\"))\n",
    "test_df['hour'] = test_df['datetime_col'].apply(lambda x: x.hour)\n",
    "test_df['timezone'] = test_df['datetime_col'].apply(lambda x: x.tzinfo)"
   ]
  },
  {
   "cell_type": "code",
   "execution_count": 21,
   "id": "2bf0b1e1",
   "metadata": {},
   "outputs": [],
   "source": [
    "#train_df.to_csv('try_train.csv')"
   ]
  },
  {
   "cell_type": "code",
   "execution_count": 22,
   "id": "4c402dfb",
   "metadata": {},
   "outputs": [],
   "source": [
    "train_df['tld'] = train_df['tld'].fillna(value='blank')\n",
    "train_df['org'] = train_df['org'].fillna(value='blank')"
   ]
  },
  {
   "cell_type": "code",
   "execution_count": 23,
   "id": "cfe655b3",
   "metadata": {},
   "outputs": [],
   "source": [
    "test_df['tld'] = test_df['tld'].fillna(value='blank')\n",
    "test_df['org'] = test_df['org'].fillna(value='blank')"
   ]
  },
  {
   "cell_type": "code",
   "execution_count": 24,
   "id": "0e220635",
   "metadata": {},
   "outputs": [],
   "source": [
    "train_df['time_1'] = pd.to_datetime(train_df['time'], format='%H:%M:%S').dt.time"
   ]
  },
  {
   "cell_type": "code",
   "execution_count": 25,
   "id": "1a3b19be",
   "metadata": {},
   "outputs": [],
   "source": [
    "from datetime import datetime\n",
    "benchMark_1 = datetime.strptime('08:00:00', \"%H:%M:%S\").time()\n",
    "benchMark_2 = datetime.strptime('12:00:00', \"%H:%M:%S\").time()\n",
    "benchMark_3 = datetime.strptime('16:00:00', \"%H:%M:%S\").time()\n",
    "benchMark_4 = datetime.strptime('18:00:00', \"%H:%M:%S\").time()\n",
    "benchMark_5 = datetime.strptime('22:00:00', \"%H:%M:%S\").time()\n",
    "benchMark_6 = datetime.strptime('23:59:00', \"%H:%M:%S\").time()\n",
    "    \n",
    "train_df['morning'] = np.where((train_df['time_1'] > benchMark_1) & (train_df['time_1'] < benchMark_2), 1, 0)\n",
    "train_df['noon'] = np.where((train_df['time_1'] > benchMark_2) & (train_df['time_1'] < benchMark_3), 1, 0)\n",
    "train_df['afternoon'] = np.where((train_df['time_1'] > benchMark_3) & (train_df['time_1'] < benchMark_4), 1, 0)\n",
    "train_df['evening'] = np.where((train_df['time_1'] > benchMark_4) & (train_df['time_1'] < benchMark_5), 1, 0)\n",
    "train_df['night'] = np.where((train_df['time_1'] > benchMark_5) & (train_df['time_1'] < benchMark_6), 1, 0)\n",
    "train_df['after_night'] = np.where((train_df['time_1'] > benchMark_6) & (train_df['time_1'] < benchMark_1), 1, 0)"
   ]
  },
  {
   "cell_type": "code",
   "execution_count": 26,
   "id": "1e835834",
   "metadata": {},
   "outputs": [],
   "source": [
    "test_df['time_1'] = pd.to_datetime(test_df['time'], format='%H:%M:%S').dt.time"
   ]
  },
  {
   "cell_type": "code",
   "execution_count": 27,
   "id": "19b5dc79",
   "metadata": {
    "scrolled": true
   },
   "outputs": [],
   "source": [
    "from datetime import datetime\n",
    "benchMark_1 = datetime.strptime('08:00:00', \"%H:%M:%S\").time()\n",
    "benchMark_2 = datetime.strptime('12:00:00', \"%H:%M:%S\").time()\n",
    "benchMark_3 = datetime.strptime('16:00:00', \"%H:%M:%S\").time()\n",
    "benchMark_4 = datetime.strptime('18:00:00', \"%H:%M:%S\").time()\n",
    "benchMark_5 = datetime.strptime('22:00:00', \"%H:%M:%S\").time()\n",
    "benchMark_6 = datetime.strptime('23:59:00', \"%H:%M:%S\").time()\n",
    "    \n",
    "test_df['morning'] = np.where((test_df['time_1'] > benchMark_1) & (test_df['time_1'] < benchMark_2), 1, 0)\n",
    "test_df['noon'] = np.where((test_df['time_1'] > benchMark_2) & (test_df['time_1'] < benchMark_3), 1, 0)\n",
    "test_df['afternoon'] = np.where((test_df['time_1'] > benchMark_3) & (test_df['time_1'] < benchMark_4), 1, 0)\n",
    "test_df['evening'] = np.where((test_df['time_1'] > benchMark_4) & (test_df['time_1'] < benchMark_5), 1, 0)\n",
    "test_df['night'] = np.where((test_df['time_1'] > benchMark_5) & (test_df['time_1'] < benchMark_6), 1, 0)\n",
    "test_df['after_night'] = np.where((test_df['time_1'] > benchMark_6) & (test_df['time_1'] < benchMark_1), 1, 0)"
   ]
  },
  {
   "cell_type": "markdown",
   "id": "c6fb10af",
   "metadata": {},
   "source": [
    "# Data analysis train set"
   ]
  },
  {
   "cell_type": "code",
   "execution_count": 28,
   "id": "9ba79429",
   "metadata": {},
   "outputs": [
    {
     "data": {
      "text/plain": [
       "1    37195\n",
       "0    17995\n",
       "3    10727\n",
       "2     8567\n",
       "7     5042\n",
       "4      357\n",
       "6      152\n",
       "5      141\n",
       "Name: label, dtype: int64"
      ]
     },
     "execution_count": 28,
     "metadata": {},
     "output_type": "execute_result"
    }
   ],
   "source": [
    "# label\n",
    "train_df['label'].value_counts()"
   ]
  },
  {
   "cell_type": "code",
   "execution_count": 29,
   "id": "bfc144e9",
   "metadata": {},
   "outputs": [
    {
     "data": {
      "text/plain": [
       "multipart/alternative    58449\n",
       "text/html                10224\n",
       "multipart/mixed           6461\n",
       "text/plain                2720\n",
       "multipart/related         1996\n",
       "text/html                   58\n",
       "Multipart/Mixed             39\n",
       "multipart/signed            26\n",
       "multipart/report            13\n",
       "Text/Html                   10\n",
       "text/calendar                4\n",
       "Multipart/Alternative        3\n",
       "multipart/IDM                1\n",
       "Name: mail_type, dtype: int64"
      ]
     },
     "execution_count": 29,
     "metadata": {},
     "output_type": "execute_result"
    }
   ],
   "source": [
    "# mail type\n",
    "train_df['mail_type'].value_counts()"
   ]
  },
  {
   "cell_type": "code",
   "execution_count": 30,
   "id": "4fbbf543",
   "metadata": {},
   "outputs": [
    {
     "data": {
      "image/png": "[encoded data removed]",
      "text/plain": [
       "<Figure size 1440x720 with 1 Axes>"
      ]
     },
     "metadata": {
      "needs_background": "light"
     },
     "output_type": "display_data"
    }
   ],
   "source": [
    "# chars_in_subject\n",
    "plt.figure(figsize=(20, 10))\n",
    "colors = {0:'red', 1:'green', 2:'blue', 3:'yellow', 4:'black', 5:'brown', 6:'purple', 7:'orange'}\n",
    "plt.scatter(train_df['label'], train_df['chars_in_subject'], c=train_df['label'].map(colors))\n",
    "plt.show()"
   ]
  },
  {
   "cell_type": "code",
   "execution_count": 31,
   "id": "308868ba",
   "metadata": {},
   "outputs": [
    {
     "data": {
      "image/png": "[encoded data removed]",
      "text/plain": [
       "<Figure size 1440x720 with 1 Axes>"
      ]
     },
     "metadata": {
      "needs_background": "light"
     },
     "output_type": "display_data"
    }
   ],
   "source": [
    "# chars_in_subject\n",
    "plt.figure(figsize=(20, 10))\n",
    "plt.plot(np.arange(len(train_df)), train_df['chars_in_subject'], c='navy')\n",
    "plt.show()"
   ]
  },
  {
   "cell_type": "code",
   "execution_count": 32,
   "id": "bd25a7d8",
   "metadata": {},
   "outputs": [
    {
     "data": {
      "image/png": "[encoded data removed]",
      "text/plain": [
       "<Figure size 1440x720 with 1 Axes>"
      ]
     },
     "metadata": {
      "needs_background": "light"
     },
     "output_type": "display_data"
    }
   ],
   "source": [
    "# chars_in_body\n",
    "plt.figure(figsize=(20, 10))\n",
    "colors = {0:'red', 1:'green', 2:'blue', 3:'yellow', 4:'black', 5:'brown', 6:'purple', 7:'orange'}\n",
    "plt.scatter(train_df['label'], train_df['chars_in_body'], c=train_df['label'].map(colors))\n",
    "plt.show()"
   ]
  },
  {
   "cell_type": "code",
   "execution_count": 33,
   "id": "5cceeaa3",
   "metadata": {},
   "outputs": [
    {
     "data": {
      "image/png": "[encoded data removed]",
      "text/plain": [
       "<Figure size 1440x720 with 1 Axes>"
      ]
     },
     "metadata": {
      "needs_background": "light"
     },
     "output_type": "display_data"
    }
   ],
   "source": [
    "plt.figure(figsize=(20, 10))\n",
    "plt.plot(np.arange(len(train_df)), train_df['chars_in_body'], c='navy')\n",
    "plt.show()"
   ]
  },
  {
   "cell_type": "code",
   "execution_count": 34,
   "id": "7ae3d888",
   "metadata": {},
   "outputs": [
    {
     "data": {
      "image/png": "[encoded data removed]",
      "text/plain": [
       "<Figure size 1440x720 with 1 Axes>"
      ]
     },
     "metadata": {
      "needs_background": "light"
     },
     "output_type": "display_data"
    }
   ],
   "source": [
    "# images\n",
    "plt.figure(figsize=(20, 10))\n",
    "colors = {0:'red', 1:'green', 2:'blue', 3:'yellow', 4:'black', 5:'brown', 6:'purple', 7:'orange'}\n",
    "plt.scatter(train_df['label'], train_df['images'], c=train_df['label'].map(colors))\n",
    "plt.show()"
   ]
  },
  {
   "cell_type": "code",
   "execution_count": 35,
   "id": "bdaef136",
   "metadata": {},
   "outputs": [
    {
     "data": {
      "image/png": "[encoded data removed]",
      "text/plain": [
       "<Figure size 1440x720 with 1 Axes>"
      ]
     },
     "metadata": {
      "needs_background": "light"
     },
     "output_type": "display_data"
    }
   ],
   "source": [
    "# images\n",
    "plt.figure(figsize=(20, 10))\n",
    "plt.plot(np.arange(len(train_df)), train_df['images'], c='navy')\n",
    "plt.show()"
   ]
  },
  {
   "cell_type": "code",
   "execution_count": 36,
   "id": "464f0b0b",
   "metadata": {},
   "outputs": [
    {
     "data": {
      "text/plain": [
       "0       31507\n",
       "4        8081\n",
       "1        5717\n",
       "2        4576\n",
       "3        3015\n",
       "        ...  \n",
       "2658        1\n",
       "280         1\n",
       "76          1\n",
       "126         1\n",
       "1276        1\n",
       "Name: images, Length: 115, dtype: int64"
      ]
     },
     "execution_count": 36,
     "metadata": {},
     "output_type": "execute_result"
    }
   ],
   "source": [
    "value_count_images = train_df['images'].value_counts()\n",
    "value_count_images"
   ]
  },
  {
   "cell_type": "code",
   "execution_count": 37,
   "id": "77906027",
   "metadata": {},
   "outputs": [
    {
     "data": {
      "text/plain": [
       "22077    1\n",
       "83481    1\n",
       "1251     1\n",
       "2658     1\n",
       "1276     1\n",
       "Name: images, dtype: int64"
      ]
     },
     "execution_count": 37,
     "metadata": {},
     "output_type": "execute_result"
    }
   ],
   "source": [
    "value_count_images.loc[value_count_images.index > 1000]"
   ]
  },
  {
   "cell_type": "code",
   "execution_count": 38,
   "id": "8742c5fd",
   "metadata": {},
   "outputs": [
    {
     "data": {
      "text/plain": [
       "[27102, 34432, 61381, 64365, 79405]"
      ]
     },
     "execution_count": 38,
     "metadata": {},
     "output_type": "execute_result"
    }
   ],
   "source": [
    "#drop all the records of images where the value is larger than 1000\n",
    "L_drop = []\n",
    "for i in range(len(train_df)):\n",
    "    if train_df['images'][i] > 1000:\n",
    "        L_drop.append(i)\n",
    "L_drop"
   ]
  },
  {
   "cell_type": "code",
   "execution_count": 39,
   "id": "ab0effaf",
   "metadata": {},
   "outputs": [],
   "source": [
    "#drop outliers\n",
    "train_df.drop(L_drop, axis=0, inplace=True)\n",
    "train_df.set_index(np.arange(len(train_df)), inplace=True)"
   ]
  },
  {
   "cell_type": "code",
   "execution_count": 40,
   "id": "2c706f53",
   "metadata": {},
   "outputs": [
    {
     "data": {
      "image/png": "[encoded data removed]",
      "text/plain": [
       "<Figure size 1440x720 with 1 Axes>"
      ]
     },
     "metadata": {
      "needs_background": "light"
     },
     "output_type": "display_data"
    }
   ],
   "source": [
    "# urls\n",
    "plt.figure(figsize=(20, 10))\n",
    "colors = {0:'red', 1:'green', 2:'blue', 3:'yellow', 4:'black', 5:'brown', 6:'purple', 7:'orange'}\n",
    "plt.scatter(train_df['label'], train_df['urls'], c=train_df['label'].map(colors))\n",
    "plt.show()"
   ]
  },
  {
   "cell_type": "code",
   "execution_count": 41,
   "id": "7a01b38c",
   "metadata": {},
   "outputs": [
    {
     "data": {
      "image/png": "[encoded data removed]",
      "text/plain": [
       "<Figure size 1440x720 with 1 Axes>"
      ]
     },
     "metadata": {
      "needs_background": "light"
     },
     "output_type": "display_data"
    }
   ],
   "source": [
    "# urls\n",
    "plt.figure(figsize=(20, 10))\n",
    "plt.plot(np.arange(len(train_df)), train_df['urls'])\n",
    "plt.show()"
   ]
  },
  {
   "cell_type": "code",
   "execution_count": 42,
   "id": "6b463511",
   "metadata": {},
   "outputs": [
    {
     "data": {
      "text/plain": [
       "0        11926\n",
       "19        4125\n",
       "1         2721\n",
       "4         2660\n",
       "6         2639\n",
       "         ...  \n",
       "522          1\n",
       "21540        1\n",
       "440          1\n",
       "354          1\n",
       "382          1\n",
       "Name: urls, Length: 357, dtype: int64"
      ]
     },
     "execution_count": 42,
     "metadata": {},
     "output_type": "execute_result"
    }
   ],
   "source": [
    "value_count_urls = train_df['urls'].value_counts()\n",
    "value_count_urls"
   ]
  },
  {
   "cell_type": "code",
   "execution_count": 43,
   "id": "043beae6",
   "metadata": {},
   "outputs": [
    {
     "data": {
      "text/plain": [
       "5532     3\n",
       "1064     1\n",
       "3578     1\n",
       "3573     1\n",
       "3571     1\n",
       "1249     1\n",
       "21540    1\n",
       "Name: urls, dtype: int64"
      ]
     },
     "execution_count": 43,
     "metadata": {},
     "output_type": "execute_result"
    }
   ],
   "source": [
    "value_count_urls.loc[value_count_urls.index > 1000]"
   ]
  },
  {
   "cell_type": "code",
   "execution_count": 44,
   "id": "c70a980a",
   "metadata": {},
   "outputs": [
    {
     "data": {
      "text/plain": [
       "[9297, 17661, 31424, 37263, 42763, 47851, 67654, 68353, 69767]"
      ]
     },
     "execution_count": 44,
     "metadata": {},
     "output_type": "execute_result"
    }
   ],
   "source": [
    "#drop all the records of urls where the value is larger than 1000\n",
    "L_drop = []\n",
    "for i in range(len(train_df)):\n",
    "    if train_df['urls'][i] > 1000:\n",
    "        L_drop.append(i)\n",
    "L_drop"
   ]
  },
  {
   "cell_type": "code",
   "execution_count": 45,
   "id": "8ab6cf15",
   "metadata": {},
   "outputs": [],
   "source": [
    "train_df.drop(L_drop, axis=0, inplace=True)\n",
    "train_df.set_index(np.arange(len(train_df)), inplace=True)"
   ]
  },
  {
   "cell_type": "code",
   "execution_count": null,
   "id": "7214a0d8",
   "metadata": {},
   "outputs": [],
   "source": []
  },
  {
   "cell_type": "markdown",
   "id": "6edc2a58",
   "metadata": {},
   "source": [
    "# Data analysis test set"
   ]
  },
  {
   "cell_type": "code",
   "execution_count": 374,
   "id": "9c1cc94f",
   "metadata": {},
   "outputs": [
    {
     "data": {
      "text/plain": [
       "multipart/alternative    25081\n",
       "text/html                 4383\n",
       "multipart/mixed           2712\n",
       "text/plain                1179\n",
       "multipart/related          879\n",
       "text/html                   25\n",
       "Multipart/Mixed             11\n",
       "multipart/signed             6\n",
       "Text/Html                    4\n",
       "multipart/report             2\n",
       "multipart/IDM                1\n",
       "text/HTML                    1\n",
       "Multipart/Alternative        1\n",
       "Name: mail_type, dtype: int64"
      ]
     },
     "execution_count": 374,
     "metadata": {},
     "output_type": "execute_result"
    }
   ],
   "source": [
    "# mail type\n",
    "test_df['mail_type'].value_counts()"
   ]
  },
  {
   "cell_type": "code",
   "execution_count": 375,
   "id": "36d572b4",
   "metadata": {},
   "outputs": [
    {
     "data": {
      "image/png": "[encoded data removed]",
      "text/plain": [
       "<Figure size 1440x720 with 1 Axes>"
      ]
     },
     "metadata": {
      "needs_background": "light"
     },
     "output_type": "display_data"
    }
   ],
   "source": [
    "# chars_in_subject\n",
    "plt.figure(figsize=(20, 10))\n",
    "plt.plot(np.arange(len(test_df)), test_df['chars_in_subject'], c='navy')\n",
    "plt.show()"
   ]
  },
  {
   "cell_type": "code",
   "execution_count": null,
   "id": "577c610e",
   "metadata": {},
   "outputs": [],
   "source": []
  },
  {
   "cell_type": "code",
   "execution_count": 376,
   "id": "2aa08f23",
   "metadata": {},
   "outputs": [
    {
     "data": {
      "image/png": "[encoded data removed]",
      "text/plain": [
       "<Figure size 1440x720 with 1 Axes>"
      ]
     },
     "metadata": {
      "needs_background": "light"
     },
     "output_type": "display_data"
    }
   ],
   "source": [
    "# chars_in_body\n",
    "plt.figure(figsize=(20, 10))\n",
    "plt.plot(np.arange(len(test_df)), test_df['chars_in_body'], c='navy')\n",
    "plt.show()"
   ]
  },
  {
   "cell_type": "code",
   "execution_count": null,
   "id": "fcbe514c",
   "metadata": {},
   "outputs": [],
   "source": []
  },
  {
   "cell_type": "code",
   "execution_count": 377,
   "id": "262aaab3",
   "metadata": {},
   "outputs": [
    {
     "data": {
      "image/png": "[encoded data removed]",
      "text/plain": [
       "<Figure size 1440x720 with 1 Axes>"
      ]
     },
     "metadata": {
      "needs_background": "light"
     },
     "output_type": "display_data"
    }
   ],
   "source": [
    "# images\n",
    "plt.figure(figsize=(20, 10))\n",
    "plt.plot(np.arange(len(test_df)), test_df['images'], c='navy')\n",
    "plt.show()"
   ]
  },
  {
   "cell_type": "code",
   "execution_count": 379,
   "id": "30dd7fcc",
   "metadata": {},
   "outputs": [
    {
     "data": {
      "text/plain": [
       "0        13591\n",
       "4         3378\n",
       "1         2430\n",
       "2         1890\n",
       "3         1321\n",
       "         ...  \n",
       "81           1\n",
       "83481        1\n",
       "178          1\n",
       "210          1\n",
       "621          1\n",
       "Name: images, Length: 104, dtype: int64"
      ]
     },
     "execution_count": 379,
     "metadata": {},
     "output_type": "execute_result"
    }
   ],
   "source": [
    "value_count_images = test_df['images'].value_counts()\n",
    "value_count_images"
   ]
  },
  {
   "cell_type": "code",
   "execution_count": 380,
   "id": "9ceb768b",
   "metadata": {},
   "outputs": [
    {
     "data": {
      "text/plain": [
       "2658     1\n",
       "26436    1\n",
       "3387     1\n",
       "8650     1\n",
       "83480    1\n",
       "83481    1\n",
       "Name: images, dtype: int64"
      ]
     },
     "execution_count": 380,
     "metadata": {},
     "output_type": "execute_result"
    }
   ],
   "source": [
    "value_count_images.loc[value_count_images.index > 1000]"
   ]
  },
  {
   "cell_type": "code",
   "execution_count": 386,
   "id": "a102831f",
   "metadata": {},
   "outputs": [
    {
     "data": {
      "image/png": "[encoded data removed]",
      "text/plain": [
       "<Figure size 1440x720 with 1 Axes>"
      ]
     },
     "metadata": {
      "needs_background": "light"
     },
     "output_type": "display_data"
    }
   ],
   "source": [
    "# urls\n",
    "plt.figure(figsize=(20, 10))\n",
    "plt.plot(np.arange(len(test_df)), test_df['urls'], c='navy')\n",
    "plt.show()"
   ]
  },
  {
   "cell_type": "code",
   "execution_count": 387,
   "id": "9696f722",
   "metadata": {},
   "outputs": [
    {
     "data": {
      "text/plain": [
       "0        5081\n",
       "19       1692\n",
       "1        1200\n",
       "6        1120\n",
       "4        1105\n",
       "         ... \n",
       "276         1\n",
       "274         1\n",
       "273         1\n",
       "15592       1\n",
       "319         1\n",
       "Name: urls, Length: 324, dtype: int64"
      ]
     },
     "execution_count": 387,
     "metadata": {},
     "output_type": "execute_result"
    }
   ],
   "source": [
    "value_count_urls = test_df['urls'].value_counts()\n",
    "value_count_urls"
   ]
  },
  {
   "cell_type": "code",
   "execution_count": 388,
   "id": "a83a5f32",
   "metadata": {},
   "outputs": [
    {
     "data": {
      "text/plain": [
       "2234     3\n",
       "1696     1\n",
       "21540    1\n",
       "3387     1\n",
       "1237     1\n",
       "15592    1\n",
       "Name: urls, dtype: int64"
      ]
     },
     "execution_count": 388,
     "metadata": {},
     "output_type": "execute_result"
    }
   ],
   "source": [
    "value_count_urls.loc[value_count_urls.index > 1000]"
   ]
  },
  {
   "cell_type": "code",
   "execution_count": null,
   "id": "03e04f5e",
   "metadata": {},
   "outputs": [],
   "source": [
    "#DataFrame.fillna(value=None)"
   ]
  },
  {
   "cell_type": "markdown",
   "id": "a9faa1c4",
   "metadata": {},
   "source": [
    "# org and tld"
   ]
  },
  {
   "cell_type": "code",
   "execution_count": 46,
   "id": "562495e8",
   "metadata": {},
   "outputs": [
    {
     "data": {
      "text/plain": [
       "iiitd                 19932\n",
       "usebackpack            5070\n",
       "google                 3890\n",
       "blank                  3451\n",
       "amazon                 3123\n",
       "                      ...  \n",
       "gr31                      1\n",
       "andromedapublisher        1\n",
       "hasteroc                  1\n",
       "app                       1\n",
       "freedns                   1\n",
       "Name: org, Length: 1039, dtype: int64"
      ]
     },
     "execution_count": 46,
     "metadata": {},
     "output_type": "execute_result"
    }
   ],
   "source": [
    "count_org = train_df['org'].value_counts()\n",
    "count_org"
   ]
  },
  {
   "cell_type": "code",
   "execution_count": 47,
   "id": "033fda3a",
   "metadata": {},
   "outputs": [
    {
     "data": {
      "text/plain": [
       "1039"
      ]
     },
     "execution_count": 47,
     "metadata": {},
     "output_type": "execute_result"
    }
   ],
   "source": [
    "list_org = [str(count_org[i:i+1].keys).split('of ')[1].split(' ')[0] for i in range(len(count_org))]\n",
    "len(list_org)"
   ]
  },
  {
   "cell_type": "code",
   "execution_count": 48,
   "id": "2e120499",
   "metadata": {},
   "outputs": [],
   "source": [
    "n = 180\n",
    "for i in range(len(count_org)):\n",
    "    if count_org[i] < n:\n",
    "        list_org[i] = 'other'"
   ]
  },
  {
   "cell_type": "code",
   "execution_count": 49,
   "id": "2ed5da33",
   "metadata": {},
   "outputs": [],
   "source": [
    "train_new = train_df.copy()"
   ]
  },
  {
   "cell_type": "code",
   "execution_count": 50,
   "id": "0d0f35d0",
   "metadata": {},
   "outputs": [],
   "source": [
    "for i in range(len(train_new)):\n",
    "    if  train_new.loc[i, ('org')] not in list_org:\n",
    "        train_new.loc[i, ('org')] = 'other'\n",
    "    else: \n",
    "        train_new.loc[i, ('org')] = train_new.loc[i, ('org')]"
   ]
  },
  {
   "cell_type": "code",
   "execution_count": null,
   "id": "1a94018c",
   "metadata": {},
   "outputs": [],
   "source": []
  },
  {
   "cell_type": "code",
   "execution_count": 51,
   "id": "fdfd504d",
   "metadata": {},
   "outputs": [
    {
     "data": {
      "text/plain": [
       "com                         34617\n",
       "ac.in                       20031\n",
       "in                           3783\n",
       "blank                        3453\n",
       "org                          3428\n",
       "                            ...  \n",
       "exhost4.secureserver.net        1\n",
       "nitrc.org                       1\n",
       "cfigroup.com                    1\n",
       "online                          1\n",
       "ws                              1\n",
       "Name: tld, Length: 292, dtype: int64"
      ]
     },
     "execution_count": 51,
     "metadata": {},
     "output_type": "execute_result"
    }
   ],
   "source": [
    "count_tld = train_df['tld'].value_counts()\n",
    "count_tld"
   ]
  },
  {
   "cell_type": "code",
   "execution_count": 52,
   "id": "aca9a564",
   "metadata": {},
   "outputs": [
    {
     "data": {
      "text/plain": [
       "292"
      ]
     },
     "execution_count": 52,
     "metadata": {},
     "output_type": "execute_result"
    }
   ],
   "source": [
    "list_tld = [str(count_tld[i:i+1].keys).split('of ')[1].split(' ')[0] for i in range(len(count_tld))]\n",
    "len(list_tld)"
   ]
  },
  {
   "cell_type": "code",
   "execution_count": 53,
   "id": "67152366",
   "metadata": {},
   "outputs": [],
   "source": [
    "n = 180\n",
    "for i in range(len(count_tld)):\n",
    "    if count_tld[i] < n:\n",
    "        list_tld[i] = 'other'"
   ]
  },
  {
   "cell_type": "code",
   "execution_count": 54,
   "id": "117cfc17",
   "metadata": {},
   "outputs": [],
   "source": [
    "for i in range(len(train_new)):\n",
    "    if  train_new.loc[i, ('tld')] not in list_tld:\n",
    "        train_new.loc[i, ('tld')] = 'other'\n",
    "    else: \n",
    "        train_new.loc[i, ('tld')] = train_new.loc[i, ('tld')]"
   ]
  },
  {
   "cell_type": "code",
   "execution_count": null,
   "id": "db004b60",
   "metadata": {},
   "outputs": [],
   "source": []
  },
  {
   "cell_type": "code",
   "execution_count": 55,
   "id": "807cf578",
   "metadata": {},
   "outputs": [],
   "source": [
    "test_new = test_df.copy()"
   ]
  },
  {
   "cell_type": "code",
   "execution_count": 56,
   "id": "620fe285",
   "metadata": {},
   "outputs": [],
   "source": [
    "for i in range(len(test_new)):\n",
    "    if  test_new.loc[i, ('org')] not in list_org:\n",
    "        test_new.loc[i, ('org')] = 'other'\n",
    "    else: \n",
    "        test_new.loc[i, ('org')] = test_new.loc[i, ('org')]\n",
    "\n",
    "for i in range(len(test_new)):\n",
    "    if  test_new.loc[i, ('tld')] not in list_tld:\n",
    "        test_new.loc[i, ('tld')] = 'other'\n",
    "    else: \n",
    "        test_new.loc[i, ('tld')] = test_new.loc[i, ('tld')]"
   ]
  },
  {
   "cell_type": "code",
   "execution_count": 107,
   "id": "0d5ade9a",
   "metadata": {},
   "outputs": [],
   "source": [
    "#train_new.to_csv('try_train.csv')"
   ]
  },
  {
   "cell_type": "markdown",
   "id": "a8de45fb",
   "metadata": {},
   "source": [
    "# Model"
   ]
  },
  {
   "cell_type": "code",
   "execution_count": 57,
   "id": "03f042fd",
   "metadata": {},
   "outputs": [
    {
     "data": {
      "text/plain": [
       "Index(['date', 'org', 'tld', 'ccs', 'bcced', 'mail_type', 'images', 'urls',\n",
       "       'salutations', 'designation', 'chars_in_subject', 'chars_in_body',\n",
       "       'label', 'diff', 'datetime_col', 'weekday', 'day', 'month', 'year',\n",
       "       'time', 'hour', 'timezone', 'time_1', 'morning', 'noon', 'afternoon',\n",
       "       'evening', 'night', 'after_night'],\n",
       "      dtype='object')"
      ]
     },
     "execution_count": 57,
     "metadata": {},
     "output_type": "execute_result"
    }
   ],
   "source": [
    "train_new.columns"
   ]
  },
  {
   "cell_type": "code",
   "execution_count": 45,
   "id": "6e8a6adb",
   "metadata": {},
   "outputs": [],
   "source": [
    "#train_new.drop(['date', 'datetime_col', 'time', 'time_1'], axis=1, inplace=True)"
   ]
  },
  {
   "cell_type": "code",
   "execution_count": 58,
   "id": "87e702fe",
   "metadata": {},
   "outputs": [
    {
     "data": {
      "text/plain": [
       "Index(['date', 'org', 'tld', 'ccs', 'bcced', 'mail_type', 'images', 'urls',\n",
       "       'salutations', 'designation', 'chars_in_subject', 'chars_in_body',\n",
       "       'diff', 'datetime_col', 'weekday', 'day', 'month', 'year', 'time',\n",
       "       'hour', 'timezone', 'time_1', 'morning', 'noon', 'afternoon', 'evening',\n",
       "       'night', 'after_night'],\n",
       "      dtype='object')"
      ]
     },
     "execution_count": 58,
     "metadata": {},
     "output_type": "execute_result"
    }
   ],
   "source": [
    "test_new.columns"
   ]
  },
  {
   "cell_type": "code",
   "execution_count": 47,
   "id": "f210cd90",
   "metadata": {},
   "outputs": [],
   "source": [
    "#test_new.drop(['date', 'datetime_col', 'time', 'time_1'], axis=1, inplace=True)"
   ]
  },
  {
   "cell_type": "markdown",
   "id": "a561ea26",
   "metadata": {},
   "source": [
    "# CatBoostClassifier"
   ]
  },
  {
   "cell_type": "code",
   "execution_count": null,
   "id": "7d43a0f0",
   "metadata": {},
   "outputs": [],
   "source": [
    "#pip install catboost"
   ]
  },
  {
   "cell_type": "code",
   "execution_count": 59,
   "id": "f940bbb0",
   "metadata": {},
   "outputs": [],
   "source": [
    "from catboost import CatBoostClassifier, Pool\n",
    "from sklearn.model_selection import train_test_split"
   ]
  },
  {
   "cell_type": "code",
   "execution_count": 60,
   "id": "4fd629da",
   "metadata": {},
   "outputs": [],
   "source": [
    "catboost_df = train_new.copy()"
   ]
  },
  {
   "cell_type": "code",
   "execution_count": 61,
   "id": "29e852fa",
   "metadata": {},
   "outputs": [],
   "source": [
    "catboost_df.drop(['timezone', 'morning', 'noon', 'afternoon', 'evening', 'night', 'after_night'], axis=1, inplace=True)"
   ]
  },
  {
   "cell_type": "code",
   "execution_count": 62,
   "id": "6eb99474",
   "metadata": {},
   "outputs": [],
   "source": [
    "catboost_df.drop(['date', 'datetime_col', 'time', 'time_1'], axis=1, inplace=True)"
   ]
  },
  {
   "cell_type": "code",
   "execution_count": 63,
   "id": "7979c3be",
   "metadata": {},
   "outputs": [],
   "source": [
    "catboost_df['org'] = np.where((catboost_df['org'] == 'blank'), 'other', catboost_df['org'])"
   ]
  },
  {
   "cell_type": "code",
   "execution_count": 64,
   "id": "e25ba150",
   "metadata": {},
   "outputs": [],
   "source": [
    "catboost_df['tld'] = np.where((catboost_df['tld'] == 'blank'), 'other', catboost_df['tld'])"
   ]
  },
  {
   "cell_type": "code",
   "execution_count": 65,
   "id": "86e12e77",
   "metadata": {},
   "outputs": [
    {
     "name": "stdout",
     "output_type": "stream",
     "text": [
      "[36, 526, 1084, 1417, 1960, 3140, 4312, 5249, 6028, 6178, 6545, 6637, 7397, 7935, 8378, 9298, 9909, 10507, 10636, 11464, 11525, 11814, 12335, 12689, 12831, 13469, 13714, 13815, 14156, 14574, 14705, 14811, 15213, 15743, 15992, 16042, 16094, 16153, 16331, 17018, 18127, 19655, 19682, 20036, 20802, 20993, 21105, 21419, 21546, 22229, 23851, 23982, 24631, 24775, 25348, 25546, 25989, 26653, 26915, 26961, 27156, 27501, 28004, 28017, 28133, 28337, 29273, 29638, 29759, 30034, 30175, 31120, 31741, 31873, 32952, 33565, 33962, 35113, 35602, 36295, 37475, 37982, 38487, 38535, 38780, 39870, 40021, 40101, 40212, 40239, 40870, 42042, 43170, 43737, 43914, 44015, 44531, 46095, 46308, 47261, 48225, 48409, 48546, 48758, 48980, 49290, 51531, 51710, 52580, 52651, 53120, 54818, 55182, 55419, 55862, 55884, 56043, 56352, 57145, 59721, 61214, 61301, 61449, 61915, 63177, 63266, 63365, 64145, 64257, 64892, 64925, 65053, 65327, 65349, 66280, 66394, 66632, 66881, 67122, 67182, 67238, 67241, 67488, 67615, 68505, 68860, 70168, 70186, 70479, 70898, 71063, 71139, 71631, 72678, 72971, 73225, 73661, 73934, 74489, 74737, 74886, 75093, 75758, 75837, 76166, 76359, 76927, 77237, 78217, 78591, 79350, 79440]\n"
     ]
    }
   ],
   "source": [
    "a = pd.isna(catboost_df['mail_type'])\n",
    "L_mail_type =[]\n",
    "for i in range(len(a)):\n",
    "    if a[i] == True:\n",
    "        L_mail_type.append(i)\n",
    "print(L_mail_type)"
   ]
  },
  {
   "cell_type": "code",
   "execution_count": 66,
   "id": "71ef99ed",
   "metadata": {},
   "outputs": [],
   "source": [
    "catboost_df.loc[L_mail_type,'mail_type'] = 'multipart/alternative'"
   ]
  },
  {
   "cell_type": "code",
   "execution_count": 68,
   "id": "5e2fc591",
   "metadata": {},
   "outputs": [
    {
     "data": {
      "text/plain": [
       "org                  object\n",
       "tld                  object\n",
       "ccs                   int64\n",
       "bcced                 int64\n",
       "mail_type            object\n",
       "images                int64\n",
       "urls                  int64\n",
       "salutations           int64\n",
       "designation           int64\n",
       "chars_in_subject    float64\n",
       "chars_in_body         int64\n",
       "label                 int64\n",
       "diff                 object\n",
       "weekday             float64\n",
       "day                 float64\n",
       "month               float64\n",
       "year                float64\n",
       "hour                float64\n",
       "dtype: object"
      ]
     },
     "execution_count": 68,
     "metadata": {},
     "output_type": "execute_result"
    }
   ],
   "source": [
    "catboost_df = catboost_df.astype({\"weekday\": 'float64', \"day\": 'float64', \"month\": 'float64', \"year\": 'float64', \"hour\": 'float64'})\n",
    "catboost_df.dtypes"
   ]
  },
  {
   "cell_type": "code",
   "execution_count": 69,
   "id": "db1007ec",
   "metadata": {},
   "outputs": [
    {
     "data": {
      "text/plain": [
       "True"
      ]
     },
     "execution_count": 69,
     "metadata": {},
     "output_type": "execute_result"
    }
   ],
   "source": [
    "catboost_df['diff'].isnull().values.any()"
   ]
  },
  {
   "cell_type": "code",
   "execution_count": 70,
   "id": "8fc9abf2",
   "metadata": {},
   "outputs": [],
   "source": [
    "catboost_df['chars_in_subject'] = catboost_df['chars_in_subject'].fillna(value=0)"
   ]
  },
  {
   "cell_type": "code",
   "execution_count": 71,
   "id": "3bd1991a",
   "metadata": {},
   "outputs": [],
   "source": [
    "catboost_df['diff'] = catboost_df['diff'].fillna(value='+0000')"
   ]
  },
  {
   "cell_type": "code",
   "execution_count": 72,
   "id": "f7f818de",
   "metadata": {},
   "outputs": [
    {
     "data": {
      "text/html": [
       "<div>\n",
       "<style scoped>\n",
       "    .dataframe tbody tr th:only-of-type {\n",
       "        vertical-align: middle;\n",
       "    }\n",
       "\n",
       "    .dataframe tbody tr th {\n",
       "        vertical-align: top;\n",
       "    }\n",
       "\n",
       "    .dataframe thead th {\n",
       "        text-align: right;\n",
       "    }\n",
       "</style>\n",
       "<table border=\"1\" class=\"dataframe\">\n",
       "  <thead>\n",
       "    <tr style=\"text-align: right;\">\n",
       "      <th></th>\n",
       "      <th>org</th>\n",
       "      <th>tld</th>\n",
       "      <th>ccs</th>\n",
       "      <th>bcced</th>\n",
       "      <th>mail_type</th>\n",
       "      <th>images</th>\n",
       "      <th>urls</th>\n",
       "      <th>salutations</th>\n",
       "      <th>designation</th>\n",
       "      <th>chars_in_subject</th>\n",
       "      <th>chars_in_body</th>\n",
       "      <th>label</th>\n",
       "      <th>diff</th>\n",
       "      <th>weekday</th>\n",
       "      <th>day</th>\n",
       "      <th>month</th>\n",
       "      <th>year</th>\n",
       "      <th>hour</th>\n",
       "    </tr>\n",
       "  </thead>\n",
       "  <tbody>\n",
       "    <tr>\n",
       "      <th>0</th>\n",
       "      <td>reply</td>\n",
       "      <td>ebay.in</td>\n",
       "      <td>0</td>\n",
       "      <td>0</td>\n",
       "      <td>multipart/alternative</td>\n",
       "      <td>35</td>\n",
       "      <td>120</td>\n",
       "      <td>0</td>\n",
       "      <td>0</td>\n",
       "      <td>49.0</td>\n",
       "      <td>80027</td>\n",
       "      <td>2</td>\n",
       "      <td>+0100</td>\n",
       "      <td>0.0</td>\n",
       "      <td>6.0</td>\n",
       "      <td>11.0</td>\n",
       "      <td>2017.0</td>\n",
       "      <td>11.0</td>\n",
       "    </tr>\n",
       "    <tr>\n",
       "      <th>1</th>\n",
       "      <td>other</td>\n",
       "      <td>other</td>\n",
       "      <td>0</td>\n",
       "      <td>0</td>\n",
       "      <td>multipart/alternative</td>\n",
       "      <td>1</td>\n",
       "      <td>7</td>\n",
       "      <td>0</td>\n",
       "      <td>0</td>\n",
       "      <td>107.0</td>\n",
       "      <td>2961</td>\n",
       "      <td>1</td>\n",
       "      <td>-0000</td>\n",
       "      <td>2.0</td>\n",
       "      <td>14.0</td>\n",
       "      <td>2.0</td>\n",
       "      <td>2018.0</td>\n",
       "      <td>11.0</td>\n",
       "    </tr>\n",
       "    <tr>\n",
       "      <th>2</th>\n",
       "      <td>usebackpack</td>\n",
       "      <td>com</td>\n",
       "      <td>0</td>\n",
       "      <td>0</td>\n",
       "      <td>text/html</td>\n",
       "      <td>4</td>\n",
       "      <td>17</td>\n",
       "      <td>0</td>\n",
       "      <td>0</td>\n",
       "      <td>35.0</td>\n",
       "      <td>25149</td>\n",
       "      <td>1</td>\n",
       "      <td>+0000</td>\n",
       "      <td>2.0</td>\n",
       "      <td>6.0</td>\n",
       "      <td>7.0</td>\n",
       "      <td>2016.0</td>\n",
       "      <td>19.0</td>\n",
       "    </tr>\n",
       "    <tr>\n",
       "      <th>3</th>\n",
       "      <td>granular</td>\n",
       "      <td>ai</td>\n",
       "      <td>0</td>\n",
       "      <td>0</td>\n",
       "      <td>multipart/mixed</td>\n",
       "      <td>0</td>\n",
       "      <td>0</td>\n",
       "      <td>0</td>\n",
       "      <td>0</td>\n",
       "      <td>15.0</td>\n",
       "      <td>635296</td>\n",
       "      <td>1</td>\n",
       "      <td>+0200</td>\n",
       "      <td>4.0</td>\n",
       "      <td>11.0</td>\n",
       "      <td>10.0</td>\n",
       "      <td>2019.0</td>\n",
       "      <td>11.0</td>\n",
       "    </tr>\n",
       "    <tr>\n",
       "      <th>4</th>\n",
       "      <td>github</td>\n",
       "      <td>com</td>\n",
       "      <td>1</td>\n",
       "      <td>0</td>\n",
       "      <td>multipart/alternative</td>\n",
       "      <td>2</td>\n",
       "      <td>11</td>\n",
       "      <td>0</td>\n",
       "      <td>0</td>\n",
       "      <td>49.0</td>\n",
       "      <td>2355</td>\n",
       "      <td>1</td>\n",
       "      <td>+0000</td>\n",
       "      <td>1.0</td>\n",
       "      <td>7.0</td>\n",
       "      <td>11.0</td>\n",
       "      <td>2017.0</td>\n",
       "      <td>11.0</td>\n",
       "    </tr>\n",
       "    <tr>\n",
       "      <th>...</th>\n",
       "      <td>...</td>\n",
       "      <td>...</td>\n",
       "      <td>...</td>\n",
       "      <td>...</td>\n",
       "      <td>...</td>\n",
       "      <td>...</td>\n",
       "      <td>...</td>\n",
       "      <td>...</td>\n",
       "      <td>...</td>\n",
       "      <td>...</td>\n",
       "      <td>...</td>\n",
       "      <td>...</td>\n",
       "      <td>...</td>\n",
       "      <td>...</td>\n",
       "      <td>...</td>\n",
       "      <td>...</td>\n",
       "      <td>...</td>\n",
       "      <td>...</td>\n",
       "    </tr>\n",
       "    <tr>\n",
       "      <th>80157</th>\n",
       "      <td>github</td>\n",
       "      <td>com</td>\n",
       "      <td>1</td>\n",
       "      <td>0</td>\n",
       "      <td>multipart/alternative</td>\n",
       "      <td>0</td>\n",
       "      <td>8</td>\n",
       "      <td>0</td>\n",
       "      <td>0</td>\n",
       "      <td>91.0</td>\n",
       "      <td>1307</td>\n",
       "      <td>3</td>\n",
       "      <td>-0700</td>\n",
       "      <td>1.0</td>\n",
       "      <td>30.0</td>\n",
       "      <td>6.0</td>\n",
       "      <td>2020.0</td>\n",
       "      <td>5.0</td>\n",
       "    </tr>\n",
       "    <tr>\n",
       "      <th>80158</th>\n",
       "      <td>other</td>\n",
       "      <td>other</td>\n",
       "      <td>0</td>\n",
       "      <td>0</td>\n",
       "      <td>text/html</td>\n",
       "      <td>0</td>\n",
       "      <td>2</td>\n",
       "      <td>1</td>\n",
       "      <td>0</td>\n",
       "      <td>73.0</td>\n",
       "      <td>13464</td>\n",
       "      <td>0</td>\n",
       "      <td>+0530</td>\n",
       "      <td>4.0</td>\n",
       "      <td>1.0</td>\n",
       "      <td>5.0</td>\n",
       "      <td>2015.0</td>\n",
       "      <td>11.0</td>\n",
       "    </tr>\n",
       "    <tr>\n",
       "      <th>80159</th>\n",
       "      <td>google</td>\n",
       "      <td>com</td>\n",
       "      <td>0</td>\n",
       "      <td>0</td>\n",
       "      <td>multipart/alternative</td>\n",
       "      <td>27</td>\n",
       "      <td>85</td>\n",
       "      <td>0</td>\n",
       "      <td>0</td>\n",
       "      <td>46.0</td>\n",
       "      <td>28485</td>\n",
       "      <td>0</td>\n",
       "      <td>-0700</td>\n",
       "      <td>1.0</td>\n",
       "      <td>26.0</td>\n",
       "      <td>5.0</td>\n",
       "      <td>2020.0</td>\n",
       "      <td>8.0</td>\n",
       "    </tr>\n",
       "    <tr>\n",
       "      <th>80160</th>\n",
       "      <td>medium</td>\n",
       "      <td>com</td>\n",
       "      <td>0</td>\n",
       "      <td>0</td>\n",
       "      <td>multipart/alternative</td>\n",
       "      <td>32</td>\n",
       "      <td>239</td>\n",
       "      <td>1</td>\n",
       "      <td>1</td>\n",
       "      <td>169.0</td>\n",
       "      <td>105276</td>\n",
       "      <td>0</td>\n",
       "      <td>+0000</td>\n",
       "      <td>4.0</td>\n",
       "      <td>14.0</td>\n",
       "      <td>12.0</td>\n",
       "      <td>2018.0</td>\n",
       "      <td>9.0</td>\n",
       "    </tr>\n",
       "    <tr>\n",
       "      <th>80161</th>\n",
       "      <td>other</td>\n",
       "      <td>other</td>\n",
       "      <td>0</td>\n",
       "      <td>0</td>\n",
       "      <td>multipart/alternative</td>\n",
       "      <td>0</td>\n",
       "      <td>5</td>\n",
       "      <td>0</td>\n",
       "      <td>0</td>\n",
       "      <td>120.0</td>\n",
       "      <td>2467</td>\n",
       "      <td>0</td>\n",
       "      <td>-0400</td>\n",
       "      <td>6.0</td>\n",
       "      <td>21.0</td>\n",
       "      <td>10.0</td>\n",
       "      <td>2012.0</td>\n",
       "      <td>23.0</td>\n",
       "    </tr>\n",
       "  </tbody>\n",
       "</table>\n",
       "<p>80162 rows × 18 columns</p>\n",
       "</div>"
      ],
      "text/plain": [
       "               org      tld  ccs  bcced              mail_type  images  urls  \\\n",
       "0            reply  ebay.in    0      0  multipart/alternative      35   120   \n",
       "1            other    other    0      0  multipart/alternative       1     7   \n",
       "2      usebackpack      com    0      0              text/html       4    17   \n",
       "3         granular       ai    0      0        multipart/mixed       0     0   \n",
       "4           github      com    1      0  multipart/alternative       2    11   \n",
       "...            ...      ...  ...    ...                    ...     ...   ...   \n",
       "80157       github      com    1      0  multipart/alternative       0     8   \n",
       "80158        other    other    0      0              text/html       0     2   \n",
       "80159       google      com    0      0  multipart/alternative      27    85   \n",
       "80160       medium      com    0      0  multipart/alternative      32   239   \n",
       "80161        other    other    0      0  multipart/alternative       0     5   \n",
       "\n",
       "       salutations  designation  chars_in_subject  chars_in_body  label  \\\n",
       "0                0            0              49.0          80027      2   \n",
       "1                0            0             107.0           2961      1   \n",
       "2                0            0              35.0          25149      1   \n",
       "3                0            0              15.0         635296      1   \n",
       "4                0            0              49.0           2355      1   \n",
       "...            ...          ...               ...            ...    ...   \n",
       "80157            0            0              91.0           1307      3   \n",
       "80158            1            0              73.0          13464      0   \n",
       "80159            0            0              46.0          28485      0   \n",
       "80160            1            1             169.0         105276      0   \n",
       "80161            0            0             120.0           2467      0   \n",
       "\n",
       "        diff  weekday   day  month    year  hour  \n",
       "0      +0100      0.0   6.0   11.0  2017.0  11.0  \n",
       "1      -0000      2.0  14.0    2.0  2018.0  11.0  \n",
       "2      +0000      2.0   6.0    7.0  2016.0  19.0  \n",
       "3      +0200      4.0  11.0   10.0  2019.0  11.0  \n",
       "4      +0000      1.0   7.0   11.0  2017.0  11.0  \n",
       "...      ...      ...   ...    ...     ...   ...  \n",
       "80157  -0700      1.0  30.0    6.0  2020.0   5.0  \n",
       "80158  +0530      4.0   1.0    5.0  2015.0  11.0  \n",
       "80159  -0700      1.0  26.0    5.0  2020.0   8.0  \n",
       "80160  +0000      4.0  14.0   12.0  2018.0   9.0  \n",
       "80161  -0400      6.0  21.0   10.0  2012.0  23.0  \n",
       "\n",
       "[80162 rows x 18 columns]"
      ]
     },
     "execution_count": 72,
     "metadata": {},
     "output_type": "execute_result"
    }
   ],
   "source": [
    "catboost_df"
   ]
  },
  {
   "cell_type": "code",
   "execution_count": 73,
   "id": "e2d61cf9",
   "metadata": {},
   "outputs": [],
   "source": [
    "#splitting dataset for train and test\n",
    "label = catboost_df['label']\n",
    "train = catboost_df.drop('label', axis=1)\n",
    "x_train, x_test, y_train, y_test = train_test_split(train, label, test_size=0.1, random_state=2)"
   ]
  },
  {
   "cell_type": "code",
   "execution_count": null,
   "id": "c09d9cfa",
   "metadata": {
    "scrolled": true
   },
   "outputs": [],
   "source": [
    "#indicating which features are not categorical\n",
    "categorical_features_indices = np.where(train.dtypes != np.float)[0]\n",
    "train_pool = Pool(x_train, y_train, cat_features=categorical_features_indices)\n",
    "\n",
    "#model\n",
    "cat = CatBoostClassifier(one_hot_max_size=3000)\n",
    "cat.fit(train_pool)\n",
    "\n",
    "#make prediction for evaluation\n",
    "y_pred_cat = cat.predict(x_test)"
   ]
  },
  {
   "cell_type": "code",
   "execution_count": 88,
   "id": "d03640ea",
   "metadata": {},
   "outputs": [
    {
     "name": "stdout",
     "output_type": "stream",
     "text": [
      "Accuracy 0.7259915190820654\n"
     ]
    }
   ],
   "source": [
    "# accuracy\n",
    "from sklearn.metrics import accuracy_score\n",
    "print('Accuracy ' + str(accuracy_score(y_test, y_pred_cat)))"
   ]
  },
  {
   "cell_type": "code",
   "execution_count": 229,
   "id": "cba5902c",
   "metadata": {},
   "outputs": [],
   "source": [
    "catboost_prediction = test_new.copy()"
   ]
  },
  {
   "cell_type": "code",
   "execution_count": 230,
   "id": "b09bc9d8",
   "metadata": {},
   "outputs": [],
   "source": [
    "catboost_prediction.drop(['date', 'datetime_col', 'time', 'time_1'], axis=1, inplace=True)"
   ]
  },
  {
   "cell_type": "code",
   "execution_count": 231,
   "id": "d8086c68",
   "metadata": {},
   "outputs": [],
   "source": [
    "catboost_prediction.drop(['timezone', 'morning', 'noon', 'afternoon', 'evening', 'night', 'after_night'], axis=1, inplace=True)"
   ]
  },
  {
   "cell_type": "code",
   "execution_count": 232,
   "id": "70f963e7",
   "metadata": {},
   "outputs": [],
   "source": [
    "catboost_prediction.drop(['duplicated'], axis=1, inplace=True)"
   ]
  },
  {
   "cell_type": "code",
   "execution_count": 233,
   "id": "5e4e1763",
   "metadata": {},
   "outputs": [
    {
     "data": {
      "text/plain": [
       "org                  object\n",
       "tld                  object\n",
       "ccs                   int64\n",
       "bcced                 int64\n",
       "mail_type            object\n",
       "images                int64\n",
       "urls                  int64\n",
       "salutations           int64\n",
       "designation           int64\n",
       "chars_in_subject    float64\n",
       "chars_in_body         int64\n",
       "diff                 object\n",
       "weekday             float64\n",
       "day                 float64\n",
       "month               float64\n",
       "year                float64\n",
       "hour                float64\n",
       "dtype: object"
      ]
     },
     "execution_count": 233,
     "metadata": {},
     "output_type": "execute_result"
    }
   ],
   "source": [
    "catboost_prediction.dtypes"
   ]
  },
  {
   "cell_type": "code",
   "execution_count": 172,
   "id": "0f8721d8",
   "metadata": {},
   "outputs": [
    {
     "data": {
      "text/plain": [
       "False"
      ]
     },
     "execution_count": 172,
     "metadata": {},
     "output_type": "execute_result"
    }
   ],
   "source": [
    "catboost_prediction['diff'].isnull().values.any()"
   ]
  },
  {
   "cell_type": "code",
   "execution_count": 234,
   "id": "1a16a666",
   "metadata": {},
   "outputs": [],
   "source": [
    "catboost_prediction['org'] = np.where((catboost_prediction['org'] == 'blank'), 'other', catboost_prediction['org'])\n",
    "catboost_prediction['tld'] = np.where((catboost_prediction['tld'] == 'blank'), 'other', catboost_prediction['tld'])"
   ]
  },
  {
   "cell_type": "code",
   "execution_count": 235,
   "id": "312199ef",
   "metadata": {},
   "outputs": [],
   "source": [
    "catboost_prediction['diff'] = catboost_prediction['diff'].fillna(value='+0000')"
   ]
  },
  {
   "cell_type": "code",
   "execution_count": 236,
   "id": "1461e893",
   "metadata": {},
   "outputs": [],
   "source": [
    "catboost_prediction['chars_in_subject'] = catboost_prediction['chars_in_subject'].fillna(value=0)"
   ]
  },
  {
   "cell_type": "code",
   "execution_count": null,
   "id": "763c80eb",
   "metadata": {},
   "outputs": [],
   "source": [
    "catboost_prediction"
   ]
  },
  {
   "cell_type": "code",
   "execution_count": 448,
   "id": "d9c92b76",
   "metadata": {},
   "outputs": [],
   "source": [
    "#catboost_prediction.to_csv('try_test.csv')"
   ]
  },
  {
   "cell_type": "code",
   "execution_count": 237,
   "id": "3fa2e717",
   "metadata": {},
   "outputs": [
    {
     "name": "stdout",
     "output_type": "stream",
     "text": [
      "[45, 103, 369, 673, 689, 918, 2790, 2842, 3452, 3678, 3703, 3767, 3867, 4604, 4797, 5579, 6215, 6745, 6750, 7994, 9558, 10472, 11271, 11506, 11517, 12620, 12693, 13111, 15495, 15919, 16272, 16612, 17298, 17550, 17589, 17848, 17870, 18275, 18432, 18475, 19377, 19525, 19587, 20545, 20586, 21460, 21740, 21877, 21898, 21995, 22354, 22548, 22882, 23755, 24149, 25466, 25843, 26425, 26702, 27127, 27685, 29736, 30170, 30172, 30225, 30479, 30841, 30959, 31391, 31908, 31957, 32032, 32051, 32192, 32640, 32878, 33186, 34109, 34239, 34251]\n"
     ]
    }
   ],
   "source": [
    "a = pd.isna(catboost_prediction['mail_type'])\n",
    "L_mail_type =[]\n",
    "for i in range(len(a)):\n",
    "    if a[i] == True:\n",
    "        L_mail_type.append(i)\n",
    "print(L_mail_type)"
   ]
  },
  {
   "cell_type": "code",
   "execution_count": 238,
   "id": "6c3ba78f",
   "metadata": {},
   "outputs": [],
   "source": [
    "catboost_prediction.loc[L_mail_type,'mail_type'] = 'multipart/alternative'"
   ]
  },
  {
   "cell_type": "code",
   "execution_count": 616,
   "id": "abdded94",
   "metadata": {},
   "outputs": [],
   "source": [
    "catboost_prediction = catboost_prediction.fillna(value=0)"
   ]
  },
  {
   "cell_type": "code",
   "execution_count": null,
   "id": "27e904b0",
   "metadata": {},
   "outputs": [],
   "source": []
  },
  {
   "cell_type": "code",
   "execution_count": 254,
   "id": "a3ea96cf",
   "metadata": {
    "scrolled": true
   },
   "outputs": [],
   "source": [
    "pred_y = cat.predict(catboost_prediction)"
   ]
  },
  {
   "cell_type": "code",
   "execution_count": 255,
   "id": "ddc5ad27",
   "metadata": {},
   "outputs": [],
   "source": [
    "## Save results to submission file\n",
    "pred_df = pd.DataFrame(pred_y, columns=['label'])\n",
    "pred_df.to_csv(\"catboost_sample_14.csv\", index=True, index_label='Id')"
   ]
  }
 ],
 "metadata": {
  "kernelspec": {
   "display_name": "Python 3 (ipykernel)",
   "language": "python",
   "name": "python3"
  },
  "language_info": {
   "codemirror_mode": {
    "name": "ipython",
    "version": 3
   },
   "file_extension": ".py",
   "mimetype": "text/x-python",
   "name": "python",
   "nbconvert_exporter": "python",
   "pygments_lexer": "ipython3",
   "version": "3.9.7"
  }
 },
 "nbformat": 4,
 "nbformat_minor": 5
}
